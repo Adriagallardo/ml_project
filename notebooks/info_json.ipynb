{
 "metadata": {
  "language_info": {
   "codemirror_mode": {
    "name": "ipython",
    "version": 3
   },
   "file_extension": ".py",
   "mimetype": "text/x-python",
   "name": "python",
   "nbconvert_exporter": "python",
   "pygments_lexer": "ipython3",
   "version": "3.7.4"
  },
  "orig_nbformat": 2,
  "kernelspec": {
   "name": "python3",
   "display_name": "Python 3.7.4 64-bit"
  },
  "metadata": {
   "interpreter": {
    "hash": "54fd10a125f012059efbf68d746a102a68808834a5fa4f754a07e57618326eaa"
   }
  },
  "interpreter": {
   "hash": "54fd10a125f012059efbf68d746a102a68808834a5fa4f754a07e57618326eaa"
  }
 },
 "nbformat": 4,
 "nbformat_minor": 2,
 "cells": [
  {
   "cell_type": "code",
   "execution_count": 1,
   "metadata": {},
   "outputs": [],
   "source": [
    "#Este archivo genera json de información sobre el proyecto a partir de los datos especificados."
   ]
  },
  {
   "cell_type": "code",
   "execution_count": 1,
   "metadata": {},
   "outputs": [],
   "source": [
    "import json"
   ]
  },
  {
   "cell_type": "code",
   "execution_count": 2,
   "metadata": {},
   "outputs": [],
   "source": [
    "#Primero agregamos la ruta a los archivos src y reports, donde guardamos las funciones generadas y las figuras que sacamos de main\n",
    "import os, sys\n",
    "ruta = os.path.dirname(os.getcwd())\n",
    "sys.path.append(ruta)"
   ]
  },
  {
   "cell_type": "code",
   "execution_count": 3,
   "metadata": {},
   "outputs": [],
   "source": [
    "import src.utils.folders_tb as fol"
   ]
  },
  {
   "cell_type": "code",
   "execution_count": 4,
   "metadata": {},
   "outputs": [],
   "source": [
    "dict_info = {\"project_name\": \"Clasificación de superficies terrestres reconocidas por vía satelital\",\n",
    "\"author\": \"Adrià Gallardo Viñas\",\n",
    "\"linkedin\": \"linkedin.com/in/adrià-gallardo-viñas-a25834209\",\n",
    "\"e_mail\": \"adriagallardo96@gmail.com\",\n",
    "\"project_title\": \"Proyecto de Machine Learning: Clasificación de superficies terrestres reconocidas por vía satelital\",\n",
    "\"project_description\": \"En este proyecto se diseñan diversos modelos de inteligencia artificial capaces de reconocer imágenes tomadas por vía satelital, sobre la superficie terrestre, y clasificarlas en grupos siguiendo los criterios de análisis exploratorio, aprendizaje automático (machine learning), aprendizaje profundo (deep learning), visualización de datos y diseño experimental.\",\n",
    "\"flask_port\": 4004,\n",
    "\"streamlit_port\": 8501,\n",
    "\"python_libraries_used\": [\"pandas\",\"numpy\",\"seaborn\",\"matplotlib.pylot\",\"os\",\"sys\",\"sqlalchemy\",\"pymysql\",\"argparse\",\"streamlit\",\"flask\",\"cv2\",\"PIL\",\"pathlib\",\"tensorflow\",\"keras\",\"sklearn\",\"random\",\"shutil\",\"keras_visualizer\", \"pickle\"]}"
   ]
  },
  {
   "cell_type": "code",
   "execution_count": 5,
   "metadata": {},
   "outputs": [],
   "source": [
    "fol.create_json_from_dict(\"..\" + os.sep + \"info.json\",dict=dict_info)"
   ]
  },
  {
   "cell_type": "code",
   "execution_count": null,
   "metadata": {},
   "outputs": [],
   "source": []
  }
 ]
}