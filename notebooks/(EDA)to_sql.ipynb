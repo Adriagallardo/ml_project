{
 "metadata": {
  "language_info": {
   "codemirror_mode": {
    "name": "ipython",
    "version": 3
   },
   "file_extension": ".py",
   "mimetype": "text/x-python",
   "name": "python",
   "nbconvert_exporter": "python",
   "pygments_lexer": "ipython3",
   "version": "3.7.4"
  },
  "orig_nbformat": 2,
  "kernelspec": {
   "name": "python374jvsc74a57bd054fd10a125f012059efbf68d746a102a68808834a5fa4f754a07e57618326eaa",
   "display_name": "Python 3.7.4 64-bit"
  },
  "metadata": {
   "interpreter": {
    "hash": "54fd10a125f012059efbf68d746a102a68808834a5fa4f754a07e57618326eaa"
   }
  }
 },
 "nbformat": 4,
 "nbformat_minor": 2,
 "cells": [
  {
   "cell_type": "code",
   "execution_count": 26,
   "metadata": {},
   "outputs": [],
   "source": [
    "#En este archivo se transporta la data limpia al servidor compartido de clase de MySQL"
   ]
  },
  {
   "cell_type": "code",
   "execution_count": 27,
   "metadata": {},
   "outputs": [],
   "source": [
    "import pandas as pd\n",
    "import os\n",
    "import pymysql\n",
    "from sqlalchemy import create_engine"
   ]
  },
  {
   "cell_type": "code",
   "execution_count": 28,
   "metadata": {},
   "outputs": [
    {
     "output_type": "execute_result",
     "data": {
      "text/plain": [
       "['c:\\\\Users\\\\Adrià\\\\Desktop\\\\Thebridge\\\\adria_gallardo_thebridge_ds\\\\Proyectos\\\\EDA\\\\notebooks',\n",
       " 'c:\\\\Users\\\\Adrià\\\\.vscode\\\\extensions\\\\ms-toolsai.jupyter-2021.6.832593372\\\\pythonFiles',\n",
       " 'c:\\\\Users\\\\Adrià\\\\.vscode\\\\extensions\\\\ms-toolsai.jupyter-2021.6.832593372\\\\pythonFiles',\n",
       " 'c:\\\\Users\\\\Adrià\\\\.vscode\\\\extensions\\\\ms-toolsai.jupyter-2021.6.832593372\\\\pythonFiles\\\\lib\\\\python',\n",
       " 'C:\\\\Users\\\\Adrià\\\\AppData\\\\Local\\\\Programs\\\\Python\\\\Python37\\\\python37.zip',\n",
       " 'C:\\\\Users\\\\Adrià\\\\AppData\\\\Local\\\\Programs\\\\Python\\\\Python37\\\\DLLs',\n",
       " 'C:\\\\Users\\\\Adrià\\\\AppData\\\\Local\\\\Programs\\\\Python\\\\Python37\\\\lib',\n",
       " 'C:\\\\Users\\\\Adrià\\\\AppData\\\\Local\\\\Programs\\\\Python\\\\Python37',\n",
       " '',\n",
       " 'C:\\\\Users\\\\Adrià\\\\AppData\\\\Roaming\\\\Python\\\\Python37\\\\site-packages',\n",
       " 'C:\\\\Users\\\\Adrià\\\\AppData\\\\Roaming\\\\Python\\\\Python37\\\\site-packages\\\\win32',\n",
       " 'C:\\\\Users\\\\Adrià\\\\AppData\\\\Roaming\\\\Python\\\\Python37\\\\site-packages\\\\win32\\\\lib',\n",
       " 'C:\\\\Users\\\\Adrià\\\\AppData\\\\Roaming\\\\Python\\\\Python37\\\\site-packages\\\\Pythonwin',\n",
       " 'C:\\\\Users\\\\Adrià\\\\AppData\\\\Local\\\\Programs\\\\Python\\\\Python37\\\\lib\\\\site-packages',\n",
       " 'C:\\\\Users\\\\Adrià\\\\AppData\\\\Roaming\\\\Python\\\\Python37\\\\site-packages\\\\IPython\\\\extensions',\n",
       " 'C:\\\\Users\\\\Adrià\\\\.ipython',\n",
       " 'c:\\\\Users\\\\Adrià\\\\Desktop\\\\Thebridge\\\\adria_gallardo_thebridge_ds\\\\Proyectos\\\\EDA',\n",
       " 'c:\\\\Users\\\\Adrià\\\\Desktop\\\\Thebridge\\\\adria_gallardo_thebridge_ds\\\\Proyectos\\\\EDA',\n",
       " 'c:\\\\Users\\\\Adrià\\\\Desktop\\\\Thebridge\\\\adria_gallardo_thebridge_ds\\\\Proyectos\\\\EDA']"
      ]
     },
     "metadata": {},
     "execution_count": 28
    }
   ],
   "source": [
    "import os, sys\n",
    "ruta = os.path.dirname(os.getcwd())\n",
    "sys.path.append(ruta)\n",
    "sys.path"
   ]
  },
  {
   "cell_type": "code",
   "execution_count": 29,
   "metadata": {},
   "outputs": [],
   "source": [
    "import src.utils.folders_tb as fol\n",
    "from src.utils.mysql_tb import MySQL"
   ]
  },
  {
   "cell_type": "code",
   "execution_count": 30,
   "metadata": {},
   "outputs": [
    {
     "output_type": "execute_result",
     "data": {
      "text/plain": [
       "      Unnamed: 0 sex  age address famsize Pstatus  Medu  Fedu  reason  \\\n",
       "0              0   F   18       U     GT3       A     4     4  course   \n",
       "1              1   F   17       U     GT3       T     1     1  course   \n",
       "2              2   F   15       U     LE3       T     1     1   other   \n",
       "3              3   F   15       U     GT3       T     4     2    home   \n",
       "4              4   F   16       U     GT3       T     3     3    home   \n",
       "...          ...  ..  ...     ...     ...     ...   ...   ...     ...   \n",
       "1010        1010   F   19       R     GT3       T     2     3  course   \n",
       "1011        1011   F   18       U     LE3       T     3     1  course   \n",
       "1012        1012   F   18       U     GT3       T     1     1  course   \n",
       "1013        1013   M   17       U     LE3       T     3     1  course   \n",
       "1014        1014   M   18       R     LE3       T     3     2  course   \n",
       "\n",
       "     guardian  ...  nursery  higher  internet romantic famrel freetime goout  \\\n",
       "0      mother  ...      yes     yes        no       no      4        3     4   \n",
       "1      father  ...       no     yes       yes       no      5        3     3   \n",
       "2      mother  ...      yes     yes       yes       no      4        3     2   \n",
       "3      mother  ...      yes     yes       yes      yes      3        2     2   \n",
       "4      father  ...      yes     yes        no       no      4        3     2   \n",
       "...       ...  ...      ...     ...       ...      ...    ...      ...   ...   \n",
       "1010   mother  ...       no     yes       yes       no      5        4     2   \n",
       "1011   mother  ...      yes     yes       yes       no      4        3     4   \n",
       "1012   mother  ...      yes     yes        no       no      1        1     1   \n",
       "1013   mother  ...       no     yes       yes       no      2        4     5   \n",
       "1014   mother  ...       no     yes       yes       no      4        4     1   \n",
       "\n",
       "     absences alcohol grade  \n",
       "0           6       2    17  \n",
       "1           4       2    16  \n",
       "2          10       5    25  \n",
       "3           2       2    44  \n",
       "4           4       3    26  \n",
       "...       ...     ...   ...  \n",
       "1010        4       3    31  \n",
       "1011        4       2    46  \n",
       "1012        6       2    32  \n",
       "1013        6       7    30  \n",
       "1014        4       7    32  \n",
       "\n",
       "[1015 rows x 27 columns]"
      ],
      "text/html": "<div>\n<style scoped>\n    .dataframe tbody tr th:only-of-type {\n        vertical-align: middle;\n    }\n\n    .dataframe tbody tr th {\n        vertical-align: top;\n    }\n\n    .dataframe thead th {\n        text-align: right;\n    }\n</style>\n<table border=\"1\" class=\"dataframe\">\n  <thead>\n    <tr style=\"text-align: right;\">\n      <th></th>\n      <th>Unnamed: 0</th>\n      <th>sex</th>\n      <th>age</th>\n      <th>address</th>\n      <th>famsize</th>\n      <th>Pstatus</th>\n      <th>Medu</th>\n      <th>Fedu</th>\n      <th>reason</th>\n      <th>guardian</th>\n      <th>...</th>\n      <th>nursery</th>\n      <th>higher</th>\n      <th>internet</th>\n      <th>romantic</th>\n      <th>famrel</th>\n      <th>freetime</th>\n      <th>goout</th>\n      <th>absences</th>\n      <th>alcohol</th>\n      <th>grade</th>\n    </tr>\n  </thead>\n  <tbody>\n    <tr>\n      <th>0</th>\n      <td>0</td>\n      <td>F</td>\n      <td>18</td>\n      <td>U</td>\n      <td>GT3</td>\n      <td>A</td>\n      <td>4</td>\n      <td>4</td>\n      <td>course</td>\n      <td>mother</td>\n      <td>...</td>\n      <td>yes</td>\n      <td>yes</td>\n      <td>no</td>\n      <td>no</td>\n      <td>4</td>\n      <td>3</td>\n      <td>4</td>\n      <td>6</td>\n      <td>2</td>\n      <td>17</td>\n    </tr>\n    <tr>\n      <th>1</th>\n      <td>1</td>\n      <td>F</td>\n      <td>17</td>\n      <td>U</td>\n      <td>GT3</td>\n      <td>T</td>\n      <td>1</td>\n      <td>1</td>\n      <td>course</td>\n      <td>father</td>\n      <td>...</td>\n      <td>no</td>\n      <td>yes</td>\n      <td>yes</td>\n      <td>no</td>\n      <td>5</td>\n      <td>3</td>\n      <td>3</td>\n      <td>4</td>\n      <td>2</td>\n      <td>16</td>\n    </tr>\n    <tr>\n      <th>2</th>\n      <td>2</td>\n      <td>F</td>\n      <td>15</td>\n      <td>U</td>\n      <td>LE3</td>\n      <td>T</td>\n      <td>1</td>\n      <td>1</td>\n      <td>other</td>\n      <td>mother</td>\n      <td>...</td>\n      <td>yes</td>\n      <td>yes</td>\n      <td>yes</td>\n      <td>no</td>\n      <td>4</td>\n      <td>3</td>\n      <td>2</td>\n      <td>10</td>\n      <td>5</td>\n      <td>25</td>\n    </tr>\n    <tr>\n      <th>3</th>\n      <td>3</td>\n      <td>F</td>\n      <td>15</td>\n      <td>U</td>\n      <td>GT3</td>\n      <td>T</td>\n      <td>4</td>\n      <td>2</td>\n      <td>home</td>\n      <td>mother</td>\n      <td>...</td>\n      <td>yes</td>\n      <td>yes</td>\n      <td>yes</td>\n      <td>yes</td>\n      <td>3</td>\n      <td>2</td>\n      <td>2</td>\n      <td>2</td>\n      <td>2</td>\n      <td>44</td>\n    </tr>\n    <tr>\n      <th>4</th>\n      <td>4</td>\n      <td>F</td>\n      <td>16</td>\n      <td>U</td>\n      <td>GT3</td>\n      <td>T</td>\n      <td>3</td>\n      <td>3</td>\n      <td>home</td>\n      <td>father</td>\n      <td>...</td>\n      <td>yes</td>\n      <td>yes</td>\n      <td>no</td>\n      <td>no</td>\n      <td>4</td>\n      <td>3</td>\n      <td>2</td>\n      <td>4</td>\n      <td>3</td>\n      <td>26</td>\n    </tr>\n    <tr>\n      <th>...</th>\n      <td>...</td>\n      <td>...</td>\n      <td>...</td>\n      <td>...</td>\n      <td>...</td>\n      <td>...</td>\n      <td>...</td>\n      <td>...</td>\n      <td>...</td>\n      <td>...</td>\n      <td>...</td>\n      <td>...</td>\n      <td>...</td>\n      <td>...</td>\n      <td>...</td>\n      <td>...</td>\n      <td>...</td>\n      <td>...</td>\n      <td>...</td>\n      <td>...</td>\n      <td>...</td>\n    </tr>\n    <tr>\n      <th>1010</th>\n      <td>1010</td>\n      <td>F</td>\n      <td>19</td>\n      <td>R</td>\n      <td>GT3</td>\n      <td>T</td>\n      <td>2</td>\n      <td>3</td>\n      <td>course</td>\n      <td>mother</td>\n      <td>...</td>\n      <td>no</td>\n      <td>yes</td>\n      <td>yes</td>\n      <td>no</td>\n      <td>5</td>\n      <td>4</td>\n      <td>2</td>\n      <td>4</td>\n      <td>3</td>\n      <td>31</td>\n    </tr>\n    <tr>\n      <th>1011</th>\n      <td>1011</td>\n      <td>F</td>\n      <td>18</td>\n      <td>U</td>\n      <td>LE3</td>\n      <td>T</td>\n      <td>3</td>\n      <td>1</td>\n      <td>course</td>\n      <td>mother</td>\n      <td>...</td>\n      <td>yes</td>\n      <td>yes</td>\n      <td>yes</td>\n      <td>no</td>\n      <td>4</td>\n      <td>3</td>\n      <td>4</td>\n      <td>4</td>\n      <td>2</td>\n      <td>46</td>\n    </tr>\n    <tr>\n      <th>1012</th>\n      <td>1012</td>\n      <td>F</td>\n      <td>18</td>\n      <td>U</td>\n      <td>GT3</td>\n      <td>T</td>\n      <td>1</td>\n      <td>1</td>\n      <td>course</td>\n      <td>mother</td>\n      <td>...</td>\n      <td>yes</td>\n      <td>yes</td>\n      <td>no</td>\n      <td>no</td>\n      <td>1</td>\n      <td>1</td>\n      <td>1</td>\n      <td>6</td>\n      <td>2</td>\n      <td>32</td>\n    </tr>\n    <tr>\n      <th>1013</th>\n      <td>1013</td>\n      <td>M</td>\n      <td>17</td>\n      <td>U</td>\n      <td>LE3</td>\n      <td>T</td>\n      <td>3</td>\n      <td>1</td>\n      <td>course</td>\n      <td>mother</td>\n      <td>...</td>\n      <td>no</td>\n      <td>yes</td>\n      <td>yes</td>\n      <td>no</td>\n      <td>2</td>\n      <td>4</td>\n      <td>5</td>\n      <td>6</td>\n      <td>7</td>\n      <td>30</td>\n    </tr>\n    <tr>\n      <th>1014</th>\n      <td>1014</td>\n      <td>M</td>\n      <td>18</td>\n      <td>R</td>\n      <td>LE3</td>\n      <td>T</td>\n      <td>3</td>\n      <td>2</td>\n      <td>course</td>\n      <td>mother</td>\n      <td>...</td>\n      <td>no</td>\n      <td>yes</td>\n      <td>yes</td>\n      <td>no</td>\n      <td>4</td>\n      <td>4</td>\n      <td>1</td>\n      <td>4</td>\n      <td>7</td>\n      <td>32</td>\n    </tr>\n  </tbody>\n</table>\n<p>1015 rows × 27 columns</p>\n</div>"
     },
     "metadata": {},
     "execution_count": 30
    }
   ],
   "source": [
    "#Primero se necesita el acceso al dataframe.\n",
    "data = fol.read_my_csv(\"..\" + os.sep + \"reports\" + os.sep + \"from_main\" + os.sep + \"cleaned_data.csv\")\n",
    "data"
   ]
  },
  {
   "cell_type": "code",
   "execution_count": 31,
   "metadata": {},
   "outputs": [
    {
     "output_type": "execute_result",
     "data": {
      "text/plain": [
       "     sex  age address famsize Pstatus  Medu  Fedu  reason guardian  \\\n",
       "0      F   18       U     GT3       A     4     4  course   mother   \n",
       "1      F   17       U     GT3       T     1     1  course   father   \n",
       "2      F   15       U     LE3       T     1     1   other   mother   \n",
       "3      F   15       U     GT3       T     4     2    home   mother   \n",
       "4      F   16       U     GT3       T     3     3    home   father   \n",
       "...   ..  ...     ...     ...     ...   ...   ...     ...      ...   \n",
       "1010   F   19       R     GT3       T     2     3  course   mother   \n",
       "1011   F   18       U     LE3       T     3     1  course   mother   \n",
       "1012   F   18       U     GT3       T     1     1  course   mother   \n",
       "1013   M   17       U     LE3       T     3     1  course   mother   \n",
       "1014   M   18       R     LE3       T     3     2  course   mother   \n",
       "\n",
       "      traveltime  ...  nursery  higher internet romantic famrel freetime  \\\n",
       "0              2  ...      yes     yes       no       no      4        3   \n",
       "1              1  ...       no     yes      yes       no      5        3   \n",
       "2              1  ...      yes     yes      yes       no      4        3   \n",
       "3              1  ...      yes     yes      yes      yes      3        2   \n",
       "4              1  ...      yes     yes       no       no      4        3   \n",
       "...          ...  ...      ...     ...      ...      ...    ...      ...   \n",
       "1010           1  ...       no     yes      yes       no      5        4   \n",
       "1011           1  ...      yes     yes      yes       no      4        3   \n",
       "1012           2  ...      yes     yes       no       no      1        1   \n",
       "1013           2  ...       no     yes      yes       no      2        4   \n",
       "1014           3  ...       no     yes      yes       no      4        4   \n",
       "\n",
       "     goout absences alcohol grade  \n",
       "0        4        6       2    17  \n",
       "1        3        4       2    16  \n",
       "2        2       10       5    25  \n",
       "3        2        2       2    44  \n",
       "4        2        4       3    26  \n",
       "...    ...      ...     ...   ...  \n",
       "1010     2        4       3    31  \n",
       "1011     4        4       2    46  \n",
       "1012     1        6       2    32  \n",
       "1013     5        6       7    30  \n",
       "1014     1        4       7    32  \n",
       "\n",
       "[1015 rows x 26 columns]"
      ],
      "text/html": "<div>\n<style scoped>\n    .dataframe tbody tr th:only-of-type {\n        vertical-align: middle;\n    }\n\n    .dataframe tbody tr th {\n        vertical-align: top;\n    }\n\n    .dataframe thead th {\n        text-align: right;\n    }\n</style>\n<table border=\"1\" class=\"dataframe\">\n  <thead>\n    <tr style=\"text-align: right;\">\n      <th></th>\n      <th>sex</th>\n      <th>age</th>\n      <th>address</th>\n      <th>famsize</th>\n      <th>Pstatus</th>\n      <th>Medu</th>\n      <th>Fedu</th>\n      <th>reason</th>\n      <th>guardian</th>\n      <th>traveltime</th>\n      <th>...</th>\n      <th>nursery</th>\n      <th>higher</th>\n      <th>internet</th>\n      <th>romantic</th>\n      <th>famrel</th>\n      <th>freetime</th>\n      <th>goout</th>\n      <th>absences</th>\n      <th>alcohol</th>\n      <th>grade</th>\n    </tr>\n  </thead>\n  <tbody>\n    <tr>\n      <th>0</th>\n      <td>F</td>\n      <td>18</td>\n      <td>U</td>\n      <td>GT3</td>\n      <td>A</td>\n      <td>4</td>\n      <td>4</td>\n      <td>course</td>\n      <td>mother</td>\n      <td>2</td>\n      <td>...</td>\n      <td>yes</td>\n      <td>yes</td>\n      <td>no</td>\n      <td>no</td>\n      <td>4</td>\n      <td>3</td>\n      <td>4</td>\n      <td>6</td>\n      <td>2</td>\n      <td>17</td>\n    </tr>\n    <tr>\n      <th>1</th>\n      <td>F</td>\n      <td>17</td>\n      <td>U</td>\n      <td>GT3</td>\n      <td>T</td>\n      <td>1</td>\n      <td>1</td>\n      <td>course</td>\n      <td>father</td>\n      <td>1</td>\n      <td>...</td>\n      <td>no</td>\n      <td>yes</td>\n      <td>yes</td>\n      <td>no</td>\n      <td>5</td>\n      <td>3</td>\n      <td>3</td>\n      <td>4</td>\n      <td>2</td>\n      <td>16</td>\n    </tr>\n    <tr>\n      <th>2</th>\n      <td>F</td>\n      <td>15</td>\n      <td>U</td>\n      <td>LE3</td>\n      <td>T</td>\n      <td>1</td>\n      <td>1</td>\n      <td>other</td>\n      <td>mother</td>\n      <td>1</td>\n      <td>...</td>\n      <td>yes</td>\n      <td>yes</td>\n      <td>yes</td>\n      <td>no</td>\n      <td>4</td>\n      <td>3</td>\n      <td>2</td>\n      <td>10</td>\n      <td>5</td>\n      <td>25</td>\n    </tr>\n    <tr>\n      <th>3</th>\n      <td>F</td>\n      <td>15</td>\n      <td>U</td>\n      <td>GT3</td>\n      <td>T</td>\n      <td>4</td>\n      <td>2</td>\n      <td>home</td>\n      <td>mother</td>\n      <td>1</td>\n      <td>...</td>\n      <td>yes</td>\n      <td>yes</td>\n      <td>yes</td>\n      <td>yes</td>\n      <td>3</td>\n      <td>2</td>\n      <td>2</td>\n      <td>2</td>\n      <td>2</td>\n      <td>44</td>\n    </tr>\n    <tr>\n      <th>4</th>\n      <td>F</td>\n      <td>16</td>\n      <td>U</td>\n      <td>GT3</td>\n      <td>T</td>\n      <td>3</td>\n      <td>3</td>\n      <td>home</td>\n      <td>father</td>\n      <td>1</td>\n      <td>...</td>\n      <td>yes</td>\n      <td>yes</td>\n      <td>no</td>\n      <td>no</td>\n      <td>4</td>\n      <td>3</td>\n      <td>2</td>\n      <td>4</td>\n      <td>3</td>\n      <td>26</td>\n    </tr>\n    <tr>\n      <th>...</th>\n      <td>...</td>\n      <td>...</td>\n      <td>...</td>\n      <td>...</td>\n      <td>...</td>\n      <td>...</td>\n      <td>...</td>\n      <td>...</td>\n      <td>...</td>\n      <td>...</td>\n      <td>...</td>\n      <td>...</td>\n      <td>...</td>\n      <td>...</td>\n      <td>...</td>\n      <td>...</td>\n      <td>...</td>\n      <td>...</td>\n      <td>...</td>\n      <td>...</td>\n      <td>...</td>\n    </tr>\n    <tr>\n      <th>1010</th>\n      <td>F</td>\n      <td>19</td>\n      <td>R</td>\n      <td>GT3</td>\n      <td>T</td>\n      <td>2</td>\n      <td>3</td>\n      <td>course</td>\n      <td>mother</td>\n      <td>1</td>\n      <td>...</td>\n      <td>no</td>\n      <td>yes</td>\n      <td>yes</td>\n      <td>no</td>\n      <td>5</td>\n      <td>4</td>\n      <td>2</td>\n      <td>4</td>\n      <td>3</td>\n      <td>31</td>\n    </tr>\n    <tr>\n      <th>1011</th>\n      <td>F</td>\n      <td>18</td>\n      <td>U</td>\n      <td>LE3</td>\n      <td>T</td>\n      <td>3</td>\n      <td>1</td>\n      <td>course</td>\n      <td>mother</td>\n      <td>1</td>\n      <td>...</td>\n      <td>yes</td>\n      <td>yes</td>\n      <td>yes</td>\n      <td>no</td>\n      <td>4</td>\n      <td>3</td>\n      <td>4</td>\n      <td>4</td>\n      <td>2</td>\n      <td>46</td>\n    </tr>\n    <tr>\n      <th>1012</th>\n      <td>F</td>\n      <td>18</td>\n      <td>U</td>\n      <td>GT3</td>\n      <td>T</td>\n      <td>1</td>\n      <td>1</td>\n      <td>course</td>\n      <td>mother</td>\n      <td>2</td>\n      <td>...</td>\n      <td>yes</td>\n      <td>yes</td>\n      <td>no</td>\n      <td>no</td>\n      <td>1</td>\n      <td>1</td>\n      <td>1</td>\n      <td>6</td>\n      <td>2</td>\n      <td>32</td>\n    </tr>\n    <tr>\n      <th>1013</th>\n      <td>M</td>\n      <td>17</td>\n      <td>U</td>\n      <td>LE3</td>\n      <td>T</td>\n      <td>3</td>\n      <td>1</td>\n      <td>course</td>\n      <td>mother</td>\n      <td>2</td>\n      <td>...</td>\n      <td>no</td>\n      <td>yes</td>\n      <td>yes</td>\n      <td>no</td>\n      <td>2</td>\n      <td>4</td>\n      <td>5</td>\n      <td>6</td>\n      <td>7</td>\n      <td>30</td>\n    </tr>\n    <tr>\n      <th>1014</th>\n      <td>M</td>\n      <td>18</td>\n      <td>R</td>\n      <td>LE3</td>\n      <td>T</td>\n      <td>3</td>\n      <td>2</td>\n      <td>course</td>\n      <td>mother</td>\n      <td>3</td>\n      <td>...</td>\n      <td>no</td>\n      <td>yes</td>\n      <td>yes</td>\n      <td>no</td>\n      <td>4</td>\n      <td>4</td>\n      <td>1</td>\n      <td>4</td>\n      <td>7</td>\n      <td>32</td>\n    </tr>\n  </tbody>\n</table>\n<p>1015 rows × 26 columns</p>\n</div>"
     },
     "metadata": {},
     "execution_count": 31
    }
   ],
   "source": [
    "#Se quita la columna Unnamed: 0 ya que es un duplicado del índice.\n",
    "data = data.drop(columns=\"Unnamed: 0\")\n",
    "data\n"
   ]
  },
  {
   "cell_type": "code",
   "execution_count": 32,
   "metadata": {},
   "outputs": [
    {
     "output_type": "stream",
     "name": "stdout",
     "text": [
      "Connected to MySQL server [21755015m_ds_april_2021_db]\n"
     ]
    }
   ],
   "source": [
    "#Por consiguiente, se establece la conexión con el servidor, que vendrá apoyada con la funcionalidad del módulo mysql_tb en la que se encuentra la clase MYSQL.\n",
    "mysql_db = MySQL(IP_DNS=\"54.87.229.244\", USER=\"21755015m\", PASSWORD=\"adriagallardo96\", BD_NAME=\"21755015m_ds_april_2021_db\", PORT=25001)\n",
    "db = mysql_db.connect()\n",
    "db_connection_str = mysql_db.SQL_ALCHEMY\n",
    "db_connection = create_engine(db_connection_str)"
   ]
  },
  {
   "cell_type": "code",
   "execution_count": 33,
   "metadata": {},
   "outputs": [],
   "source": [
    "#Finalmente, se sube el DataFrame al servidor.\n",
    "data.to_sql(name=\"21755015m_ds_april_2021_db_tb\", con=db_connection, if_exists=\"replace\", index=False)"
   ]
  },
  {
   "cell_type": "code",
   "execution_count": 34,
   "metadata": {},
   "outputs": [
    {
     "output_type": "execute_result",
     "data": {
      "text/plain": [
       "     sex  age address famsize Pstatus  Medu  Fedu  reason guardian  \\\n",
       "0      F   18       U     GT3       A     4     4  course   mother   \n",
       "1      F   17       U     GT3       T     1     1  course   father   \n",
       "2      F   15       U     LE3       T     1     1   other   mother   \n",
       "3      F   15       U     GT3       T     4     2    home   mother   \n",
       "4      F   16       U     GT3       T     3     3    home   father   \n",
       "...   ..  ...     ...     ...     ...   ...   ...     ...      ...   \n",
       "1010   F   19       R     GT3       T     2     3  course   mother   \n",
       "1011   F   18       U     LE3       T     3     1  course   mother   \n",
       "1012   F   18       U     GT3       T     1     1  course   mother   \n",
       "1013   M   17       U     LE3       T     3     1  course   mother   \n",
       "1014   M   18       R     LE3       T     3     2  course   mother   \n",
       "\n",
       "      traveltime  ...  nursery  higher internet romantic famrel freetime  \\\n",
       "0              2  ...      yes     yes       no       no      4        3   \n",
       "1              1  ...       no     yes      yes       no      5        3   \n",
       "2              1  ...      yes     yes      yes       no      4        3   \n",
       "3              1  ...      yes     yes      yes      yes      3        2   \n",
       "4              1  ...      yes     yes       no       no      4        3   \n",
       "...          ...  ...      ...     ...      ...      ...    ...      ...   \n",
       "1010           1  ...       no     yes      yes       no      5        4   \n",
       "1011           1  ...      yes     yes      yes       no      4        3   \n",
       "1012           2  ...      yes     yes       no       no      1        1   \n",
       "1013           2  ...       no     yes      yes       no      2        4   \n",
       "1014           3  ...       no     yes      yes       no      4        4   \n",
       "\n",
       "     goout absences alcohol grade  \n",
       "0        4        6       2    17  \n",
       "1        3        4       2    16  \n",
       "2        2       10       5    25  \n",
       "3        2        2       2    44  \n",
       "4        2        4       3    26  \n",
       "...    ...      ...     ...   ...  \n",
       "1010     2        4       3    31  \n",
       "1011     4        4       2    46  \n",
       "1012     1        6       2    32  \n",
       "1013     5        6       7    30  \n",
       "1014     1        4       7    32  \n",
       "\n",
       "[1015 rows x 26 columns]"
      ],
      "text/html": "<div>\n<style scoped>\n    .dataframe tbody tr th:only-of-type {\n        vertical-align: middle;\n    }\n\n    .dataframe tbody tr th {\n        vertical-align: top;\n    }\n\n    .dataframe thead th {\n        text-align: right;\n    }\n</style>\n<table border=\"1\" class=\"dataframe\">\n  <thead>\n    <tr style=\"text-align: right;\">\n      <th></th>\n      <th>sex</th>\n      <th>age</th>\n      <th>address</th>\n      <th>famsize</th>\n      <th>Pstatus</th>\n      <th>Medu</th>\n      <th>Fedu</th>\n      <th>reason</th>\n      <th>guardian</th>\n      <th>traveltime</th>\n      <th>...</th>\n      <th>nursery</th>\n      <th>higher</th>\n      <th>internet</th>\n      <th>romantic</th>\n      <th>famrel</th>\n      <th>freetime</th>\n      <th>goout</th>\n      <th>absences</th>\n      <th>alcohol</th>\n      <th>grade</th>\n    </tr>\n  </thead>\n  <tbody>\n    <tr>\n      <th>0</th>\n      <td>F</td>\n      <td>18</td>\n      <td>U</td>\n      <td>GT3</td>\n      <td>A</td>\n      <td>4</td>\n      <td>4</td>\n      <td>course</td>\n      <td>mother</td>\n      <td>2</td>\n      <td>...</td>\n      <td>yes</td>\n      <td>yes</td>\n      <td>no</td>\n      <td>no</td>\n      <td>4</td>\n      <td>3</td>\n      <td>4</td>\n      <td>6</td>\n      <td>2</td>\n      <td>17</td>\n    </tr>\n    <tr>\n      <th>1</th>\n      <td>F</td>\n      <td>17</td>\n      <td>U</td>\n      <td>GT3</td>\n      <td>T</td>\n      <td>1</td>\n      <td>1</td>\n      <td>course</td>\n      <td>father</td>\n      <td>1</td>\n      <td>...</td>\n      <td>no</td>\n      <td>yes</td>\n      <td>yes</td>\n      <td>no</td>\n      <td>5</td>\n      <td>3</td>\n      <td>3</td>\n      <td>4</td>\n      <td>2</td>\n      <td>16</td>\n    </tr>\n    <tr>\n      <th>2</th>\n      <td>F</td>\n      <td>15</td>\n      <td>U</td>\n      <td>LE3</td>\n      <td>T</td>\n      <td>1</td>\n      <td>1</td>\n      <td>other</td>\n      <td>mother</td>\n      <td>1</td>\n      <td>...</td>\n      <td>yes</td>\n      <td>yes</td>\n      <td>yes</td>\n      <td>no</td>\n      <td>4</td>\n      <td>3</td>\n      <td>2</td>\n      <td>10</td>\n      <td>5</td>\n      <td>25</td>\n    </tr>\n    <tr>\n      <th>3</th>\n      <td>F</td>\n      <td>15</td>\n      <td>U</td>\n      <td>GT3</td>\n      <td>T</td>\n      <td>4</td>\n      <td>2</td>\n      <td>home</td>\n      <td>mother</td>\n      <td>1</td>\n      <td>...</td>\n      <td>yes</td>\n      <td>yes</td>\n      <td>yes</td>\n      <td>yes</td>\n      <td>3</td>\n      <td>2</td>\n      <td>2</td>\n      <td>2</td>\n      <td>2</td>\n      <td>44</td>\n    </tr>\n    <tr>\n      <th>4</th>\n      <td>F</td>\n      <td>16</td>\n      <td>U</td>\n      <td>GT3</td>\n      <td>T</td>\n      <td>3</td>\n      <td>3</td>\n      <td>home</td>\n      <td>father</td>\n      <td>1</td>\n      <td>...</td>\n      <td>yes</td>\n      <td>yes</td>\n      <td>no</td>\n      <td>no</td>\n      <td>4</td>\n      <td>3</td>\n      <td>2</td>\n      <td>4</td>\n      <td>3</td>\n      <td>26</td>\n    </tr>\n    <tr>\n      <th>...</th>\n      <td>...</td>\n      <td>...</td>\n      <td>...</td>\n      <td>...</td>\n      <td>...</td>\n      <td>...</td>\n      <td>...</td>\n      <td>...</td>\n      <td>...</td>\n      <td>...</td>\n      <td>...</td>\n      <td>...</td>\n      <td>...</td>\n      <td>...</td>\n      <td>...</td>\n      <td>...</td>\n      <td>...</td>\n      <td>...</td>\n      <td>...</td>\n      <td>...</td>\n      <td>...</td>\n    </tr>\n    <tr>\n      <th>1010</th>\n      <td>F</td>\n      <td>19</td>\n      <td>R</td>\n      <td>GT3</td>\n      <td>T</td>\n      <td>2</td>\n      <td>3</td>\n      <td>course</td>\n      <td>mother</td>\n      <td>1</td>\n      <td>...</td>\n      <td>no</td>\n      <td>yes</td>\n      <td>yes</td>\n      <td>no</td>\n      <td>5</td>\n      <td>4</td>\n      <td>2</td>\n      <td>4</td>\n      <td>3</td>\n      <td>31</td>\n    </tr>\n    <tr>\n      <th>1011</th>\n      <td>F</td>\n      <td>18</td>\n      <td>U</td>\n      <td>LE3</td>\n      <td>T</td>\n      <td>3</td>\n      <td>1</td>\n      <td>course</td>\n      <td>mother</td>\n      <td>1</td>\n      <td>...</td>\n      <td>yes</td>\n      <td>yes</td>\n      <td>yes</td>\n      <td>no</td>\n      <td>4</td>\n      <td>3</td>\n      <td>4</td>\n      <td>4</td>\n      <td>2</td>\n      <td>46</td>\n    </tr>\n    <tr>\n      <th>1012</th>\n      <td>F</td>\n      <td>18</td>\n      <td>U</td>\n      <td>GT3</td>\n      <td>T</td>\n      <td>1</td>\n      <td>1</td>\n      <td>course</td>\n      <td>mother</td>\n      <td>2</td>\n      <td>...</td>\n      <td>yes</td>\n      <td>yes</td>\n      <td>no</td>\n      <td>no</td>\n      <td>1</td>\n      <td>1</td>\n      <td>1</td>\n      <td>6</td>\n      <td>2</td>\n      <td>32</td>\n    </tr>\n    <tr>\n      <th>1013</th>\n      <td>M</td>\n      <td>17</td>\n      <td>U</td>\n      <td>LE3</td>\n      <td>T</td>\n      <td>3</td>\n      <td>1</td>\n      <td>course</td>\n      <td>mother</td>\n      <td>2</td>\n      <td>...</td>\n      <td>no</td>\n      <td>yes</td>\n      <td>yes</td>\n      <td>no</td>\n      <td>2</td>\n      <td>4</td>\n      <td>5</td>\n      <td>6</td>\n      <td>7</td>\n      <td>30</td>\n    </tr>\n    <tr>\n      <th>1014</th>\n      <td>M</td>\n      <td>18</td>\n      <td>R</td>\n      <td>LE3</td>\n      <td>T</td>\n      <td>3</td>\n      <td>2</td>\n      <td>course</td>\n      <td>mother</td>\n      <td>3</td>\n      <td>...</td>\n      <td>no</td>\n      <td>yes</td>\n      <td>yes</td>\n      <td>no</td>\n      <td>4</td>\n      <td>4</td>\n      <td>1</td>\n      <td>4</td>\n      <td>7</td>\n      <td>32</td>\n    </tr>\n  </tbody>\n</table>\n<p>1015 rows × 26 columns</p>\n</div>"
     },
     "metadata": {},
     "execution_count": 34
    }
   ],
   "source": [
    "#Se comprueba que se haya subido correctamente con una lectura del DataFrame\n",
    "\n",
    "pd.read_sql_table(\"21755015m_ds_april_2021_db_tb\", db_connection)"
   ]
  },
  {
   "cell_type": "code",
   "execution_count": null,
   "metadata": {},
   "outputs": [],
   "source": []
  }
 ]
}